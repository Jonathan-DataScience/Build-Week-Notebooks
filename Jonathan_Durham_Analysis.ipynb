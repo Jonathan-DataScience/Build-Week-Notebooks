{
  "nbformat": 4,
  "nbformat_minor": 0,
  "metadata": {
    "colab": {
      "name": "Jonathan_Durham_Analysis.ipynb",
      "provenance": []
    },
    "kernelspec": {
      "name": "python3",
      "display_name": "Python 3"
    }
  },
  "cells": [
    {
      "cell_type": "code",
      "metadata": {
        "id": "QtpvB7RazSvk"
      },
      "source": [
        "import numpy as np\n",
        "import pandas as pd\n",
        "import matplotlib.pyplot as plt"
      ],
      "execution_count": null,
      "outputs": []
    },
    {
      "cell_type": "code",
      "metadata": {
        "id": "_QBIHDVtzgkT",
        "outputId": "e061ff94-573d-464e-8008-ee66b9535a72",
        "colab": {
          "base_uri": "https://localhost:8080/",
          "height": 204
        }
      },
      "source": [
        "column_headers = ['GRANTEE','YEAR','ISSUE','PROGRAM','AMOUNT']\n",
        "k_12 = pd.read_csv('K-12.data',names=column_headers)\n",
        "k_12.head()"
      ],
      "execution_count": null,
      "outputs": [
        {
          "output_type": "execute_result",
          "data": {
            "text/html": [
              "<div>\n",
              "<style scoped>\n",
              "    .dataframe tbody tr th:only-of-type {\n",
              "        vertical-align: middle;\n",
              "    }\n",
              "\n",
              "    .dataframe tbody tr th {\n",
              "        vertical-align: top;\n",
              "    }\n",
              "\n",
              "    .dataframe thead th {\n",
              "        text-align: right;\n",
              "    }\n",
              "</style>\n",
              "<table border=\"1\" class=\"dataframe\">\n",
              "  <thead>\n",
              "    <tr style=\"text-align: right;\">\n",
              "      <th></th>\n",
              "      <th>GRANTEE</th>\n",
              "      <th>YEAR</th>\n",
              "      <th>ISSUE</th>\n",
              "      <th>PROGRAM</th>\n",
              "      <th>AMOUNT</th>\n",
              "    </tr>\n",
              "  </thead>\n",
              "  <tbody>\n",
              "    <tr>\n",
              "      <th>0</th>\n",
              "      <td>Data_Quality_Campaign_Inc.</td>\n",
              "      <td>2020</td>\n",
              "      <td>K-12_Education</td>\n",
              "      <td>US_Program</td>\n",
              "      <td>300000.0</td>\n",
              "    </tr>\n",
              "    <tr>\n",
              "      <th>1</th>\n",
              "      <td>Youth_Guidance</td>\n",
              "      <td>2020</td>\n",
              "      <td>K-12_Education</td>\n",
              "      <td>US_Program</td>\n",
              "      <td>600000.0</td>\n",
              "    </tr>\n",
              "    <tr>\n",
              "      <th>2</th>\n",
              "      <td>Brown_University</td>\n",
              "      <td>2020</td>\n",
              "      <td>K-12_Education</td>\n",
              "      <td>US_Program</td>\n",
              "      <td>249995.0</td>\n",
              "    </tr>\n",
              "    <tr>\n",
              "      <th>3</th>\n",
              "      <td>University_of_California_Berkeley</td>\n",
              "      <td>2020</td>\n",
              "      <td>K-12_Education</td>\n",
              "      <td>US_Program</td>\n",
              "      <td>99930.0</td>\n",
              "    </tr>\n",
              "    <tr>\n",
              "      <th>4</th>\n",
              "      <td>New_York_University</td>\n",
              "      <td>2020</td>\n",
              "      <td>K-12_Education</td>\n",
              "      <td>US_Program</td>\n",
              "      <td>10000.0</td>\n",
              "    </tr>\n",
              "  </tbody>\n",
              "</table>\n",
              "</div>"
            ],
            "text/plain": [
              "                             GRANTEE  YEAR  ...     PROGRAM    AMOUNT\n",
              "0         Data_Quality_Campaign_Inc.  2020  ...  US_Program  300000.0\n",
              "1                     Youth_Guidance  2020  ...  US_Program  600000.0\n",
              "2                   Brown_University  2020  ...  US_Program  249995.0\n",
              "3  University_of_California_Berkeley  2020  ...  US_Program   99930.0\n",
              "4                New_York_University  2020  ...  US_Program   10000.0\n",
              "\n",
              "[5 rows x 5 columns]"
            ]
          },
          "metadata": {
            "tags": []
          },
          "execution_count": 122
        }
      ]
    },
    {
      "cell_type": "code",
      "metadata": {
        "id": "E9vTg3v20FsD",
        "outputId": "6d8a5a2e-b05f-42c6-96af-0adc2cb2fe25",
        "colab": {
          "base_uri": "https://localhost:8080/",
          "height": 204
        }
      },
      "source": [
        "Global_Health = pd.read_csv('Global Health and Development.data',names=column_headers)\n",
        "Global_Health.head()"
      ],
      "execution_count": null,
      "outputs": [
        {
          "output_type": "execute_result",
          "data": {
            "text/html": [
              "<div>\n",
              "<style scoped>\n",
              "    .dataframe tbody tr th:only-of-type {\n",
              "        vertical-align: middle;\n",
              "    }\n",
              "\n",
              "    .dataframe tbody tr th {\n",
              "        vertical-align: top;\n",
              "    }\n",
              "\n",
              "    .dataframe thead th {\n",
              "        text-align: right;\n",
              "    }\n",
              "</style>\n",
              "<table border=\"1\" class=\"dataframe\">\n",
              "  <thead>\n",
              "    <tr style=\"text-align: right;\">\n",
              "      <th></th>\n",
              "      <th>GRANTEE</th>\n",
              "      <th>YEAR</th>\n",
              "      <th>ISSUE</th>\n",
              "      <th>PROGRAM</th>\n",
              "      <th>AMOUNT</th>\n",
              "    </tr>\n",
              "  </thead>\n",
              "  <tbody>\n",
              "    <tr>\n",
              "      <th>0</th>\n",
              "      <td>Guardian News &amp; Media Ltd</td>\n",
              "      <td>2020</td>\n",
              "      <td>Global Health and Development Public Awareness...</td>\n",
              "      <td>Global Policy &amp; Advocacy</td>\n",
              "      <td>3499032.0</td>\n",
              "    </tr>\n",
              "    <tr>\n",
              "      <th>1</th>\n",
              "      <td>Foreign Talent Research Center Ministry of Sci...</td>\n",
              "      <td>2020</td>\n",
              "      <td>Global Health and Development Public Awareness...</td>\n",
              "      <td>Global Policy &amp; Advocacy</td>\n",
              "      <td>100000.0</td>\n",
              "    </tr>\n",
              "    <tr>\n",
              "      <th>2</th>\n",
              "      <td>Shenzhen Health Development and Research Center</td>\n",
              "      <td>2020</td>\n",
              "      <td>Global Health and Development Public Awareness...</td>\n",
              "      <td>Global Policy &amp; Advocacy</td>\n",
              "      <td>149866.0</td>\n",
              "    </tr>\n",
              "    <tr>\n",
              "      <th>3</th>\n",
              "      <td>Search for Common Ground</td>\n",
              "      <td>2020</td>\n",
              "      <td>Global Health and Development Public Awareness...</td>\n",
              "      <td>Global Development</td>\n",
              "      <td>985555.0</td>\n",
              "    </tr>\n",
              "    <tr>\n",
              "      <th>4</th>\n",
              "      <td>Bread for the World Institute Inc.</td>\n",
              "      <td>2020</td>\n",
              "      <td>Global Health and Development Public Awareness...</td>\n",
              "      <td>Global Policy &amp; Advocacy</td>\n",
              "      <td>451726.0</td>\n",
              "    </tr>\n",
              "  </tbody>\n",
              "</table>\n",
              "</div>"
            ],
            "text/plain": [
              "                                             GRANTEE  ...     AMOUNT\n",
              "0                          Guardian News & Media Ltd  ...  3499032.0\n",
              "1  Foreign Talent Research Center Ministry of Sci...  ...   100000.0\n",
              "2    Shenzhen Health Development and Research Center  ...   149866.0\n",
              "3                           Search for Common Ground  ...   985555.0\n",
              "4                 Bread for the World Institute Inc.  ...   451726.0\n",
              "\n",
              "[5 rows x 5 columns]"
            ]
          },
          "metadata": {
            "tags": []
          },
          "execution_count": 109
        }
      ]
    },
    {
      "cell_type": "code",
      "metadata": {
        "id": "8GgWlfBM0e_N",
        "outputId": "7d74742c-3224-4013-f7a4-4719f3996b95",
        "colab": {
          "base_uri": "https://localhost:8080/",
          "height": 204
        }
      },
      "source": [
        "k_12 = k_12.replace(to_replace='_',value=' ',regex=True)\n",
        "k_12.head()"
      ],
      "execution_count": null,
      "outputs": [
        {
          "output_type": "execute_result",
          "data": {
            "text/html": [
              "<div>\n",
              "<style scoped>\n",
              "    .dataframe tbody tr th:only-of-type {\n",
              "        vertical-align: middle;\n",
              "    }\n",
              "\n",
              "    .dataframe tbody tr th {\n",
              "        vertical-align: top;\n",
              "    }\n",
              "\n",
              "    .dataframe thead th {\n",
              "        text-align: right;\n",
              "    }\n",
              "</style>\n",
              "<table border=\"1\" class=\"dataframe\">\n",
              "  <thead>\n",
              "    <tr style=\"text-align: right;\">\n",
              "      <th></th>\n",
              "      <th>GRANTEE</th>\n",
              "      <th>YEAR</th>\n",
              "      <th>ISSUE</th>\n",
              "      <th>PROGRAM</th>\n",
              "      <th>AMOUNT</th>\n",
              "    </tr>\n",
              "  </thead>\n",
              "  <tbody>\n",
              "    <tr>\n",
              "      <th>0</th>\n",
              "      <td>Data Quality Campaign Inc.</td>\n",
              "      <td>2020</td>\n",
              "      <td>K-12 Education</td>\n",
              "      <td>US Program</td>\n",
              "      <td>300000</td>\n",
              "    </tr>\n",
              "    <tr>\n",
              "      <th>1</th>\n",
              "      <td>Youth Guidance</td>\n",
              "      <td>2020</td>\n",
              "      <td>K-12 Education</td>\n",
              "      <td>US Program</td>\n",
              "      <td>600000</td>\n",
              "    </tr>\n",
              "    <tr>\n",
              "      <th>2</th>\n",
              "      <td>Brown University</td>\n",
              "      <td>2020</td>\n",
              "      <td>K-12 Education</td>\n",
              "      <td>US Program</td>\n",
              "      <td>249995</td>\n",
              "    </tr>\n",
              "    <tr>\n",
              "      <th>3</th>\n",
              "      <td>University of California Berkeley</td>\n",
              "      <td>2020</td>\n",
              "      <td>K-12 Education</td>\n",
              "      <td>US Program</td>\n",
              "      <td>99930</td>\n",
              "    </tr>\n",
              "    <tr>\n",
              "      <th>4</th>\n",
              "      <td>New York University</td>\n",
              "      <td>2020</td>\n",
              "      <td>K-12 Education</td>\n",
              "      <td>US Program</td>\n",
              "      <td>10000</td>\n",
              "    </tr>\n",
              "  </tbody>\n",
              "</table>\n",
              "</div>"
            ],
            "text/plain": [
              "                             GRANTEE  YEAR           ISSUE     PROGRAM  AMOUNT\n",
              "0         Data Quality Campaign Inc.  2020  K-12 Education  US Program  300000\n",
              "1                     Youth Guidance  2020  K-12 Education  US Program  600000\n",
              "2                   Brown University  2020  K-12 Education  US Program  249995\n",
              "3  University of California Berkeley  2020  K-12 Education  US Program   99930\n",
              "4                New York University  2020  K-12 Education  US Program   10000"
            ]
          },
          "metadata": {
            "tags": []
          },
          "execution_count": 110
        }
      ]
    },
    {
      "cell_type": "code",
      "metadata": {
        "id": "BhThLi74m_eQ",
        "outputId": "6483e9ff-8634-413a-dc79-060d0a4937ef",
        "colab": {
          "base_uri": "https://localhost:8080/",
          "height": 221
        }
      },
      "source": [
        "k_12['AMOUNT'].value_counts()"
      ],
      "execution_count": null,
      "outputs": [
        {
          "output_type": "execute_result",
          "data": {
            "text/plain": [
              "100000     7\n",
              "50000      6\n",
              "250000     6\n",
              "125000     6\n",
              "1000000    3\n",
              "          ..\n",
              "367893     1\n",
              "647170     1\n",
              "572628     1\n",
              "450000     1\n",
              "99986      1\n",
              "Name: AMOUNT, Length: 116, dtype: int64"
            ]
          },
          "metadata": {
            "tags": []
          },
          "execution_count": 111
        }
      ]
    },
    {
      "cell_type": "code",
      "metadata": {
        "id": "Q166P3lanLHW",
        "outputId": "976e7436-3d6a-4e0b-d45a-084e7904898a",
        "colab": {
          "base_uri": "https://localhost:8080/",
          "height": 221
        }
      },
      "source": [
        "Global_Health['AMOUNT'].value_counts()"
      ],
      "execution_count": null,
      "outputs": [
        {
          "output_type": "execute_result",
          "data": {
            "text/plain": [
              "100000.0     6\n",
              "500000.0     3\n",
              "600000.0     3\n",
              "200000.0     2\n",
              "300000.0     2\n",
              "            ..\n",
              "3100000.0    1\n",
              "4365000.0    1\n",
              "6527704.0    1\n",
              "451700.0     1\n",
              "44960.0      1\n",
              "Name: AMOUNT, Length: 93, dtype: int64"
            ]
          },
          "metadata": {
            "tags": []
          },
          "execution_count": 112
        }
      ]
    },
    {
      "cell_type": "code",
      "metadata": {
        "id": "AAhp9rCj1VGN",
        "outputId": "bbf93655-39e6-4587-cb01-4b2f849f2c27",
        "colab": {
          "base_uri": "https://localhost:8080/",
          "height": 221
        }
      },
      "source": [
        "k_12['AMOUNT'].value_counts()"
      ],
      "execution_count": null,
      "outputs": [
        {
          "output_type": "execute_result",
          "data": {
            "text/plain": [
              "100000     7\n",
              "50000      6\n",
              "250000     6\n",
              "125000     6\n",
              "1000000    3\n",
              "          ..\n",
              "367893     1\n",
              "647170     1\n",
              "572628     1\n",
              "450000     1\n",
              "99986      1\n",
              "Name: AMOUNT, Length: 116, dtype: int64"
            ]
          },
          "metadata": {
            "tags": []
          },
          "execution_count": 113
        }
      ]
    },
    {
      "cell_type": "code",
      "metadata": {
        "id": "E-yNhD0rpWm2",
        "outputId": "16f811b9-64d1-49b0-f2f4-6d4ec8d30d6d",
        "colab": {
          "base_uri": "https://localhost:8080/",
          "height": 119
        }
      },
      "source": [
        "k_12.isnull().sum()"
      ],
      "execution_count": null,
      "outputs": [
        {
          "output_type": "execute_result",
          "data": {
            "text/plain": [
              "GRANTEE    0\n",
              "YEAR       0\n",
              "ISSUE      0\n",
              "PROGRAM    0\n",
              "AMOUNT     2\n",
              "dtype: int64"
            ]
          },
          "metadata": {
            "tags": []
          },
          "execution_count": 114
        }
      ]
    },
    {
      "cell_type": "code",
      "metadata": {
        "id": "bNEhN8gdpakv",
        "outputId": "cddb69e0-0a01-414e-baa8-332ed1114b30",
        "colab": {
          "base_uri": "https://localhost:8080/",
          "height": 119
        }
      },
      "source": [
        "Global_Health.isnull().sum()"
      ],
      "execution_count": null,
      "outputs": [
        {
          "output_type": "execute_result",
          "data": {
            "text/plain": [
              "GRANTEE    0\n",
              "YEAR       0\n",
              "ISSUE      1\n",
              "PROGRAM    1\n",
              "AMOUNT     2\n",
              "dtype: int64"
            ]
          },
          "metadata": {
            "tags": []
          },
          "execution_count": 115
        }
      ]
    },
    {
      "cell_type": "code",
      "metadata": {
        "id": "FtTk4osmtbB8",
        "outputId": "c3ef5103-84c9-44a9-b6e4-061a6530a8a2",
        "colab": {
          "base_uri": "https://localhost:8080/",
          "height": 221
        }
      },
      "source": [
        "k_12['AMOUNT'].value_counts(dropna=False)"
      ],
      "execution_count": null,
      "outputs": [
        {
          "output_type": "execute_result",
          "data": {
            "text/plain": [
              "100000     7\n",
              "125000     6\n",
              "50000      6\n",
              "250000     6\n",
              "1000000    3\n",
              "          ..\n",
              "3600000    1\n",
              "367893     1\n",
              "647170     1\n",
              "572628     1\n",
              "4870000    1\n",
              "Name: AMOUNT, Length: 117, dtype: int64"
            ]
          },
          "metadata": {
            "tags": []
          },
          "execution_count": 116
        }
      ]
    },
    {
      "cell_type": "code",
      "metadata": {
        "id": "GjahWIuLupcv"
      },
      "source": [
        "k_12 = k_12.replace(to_replace='nan', value=0)"
      ],
      "execution_count": null,
      "outputs": []
    },
    {
      "cell_type": "code",
      "metadata": {
        "id": "4jxFgA41vRrX",
        "outputId": "d7b1ff19-4229-4bc2-b938-5cdcfdfb6056",
        "colab": {
          "base_uri": "https://localhost:8080/",
          "height": 419
        }
      },
      "source": [
        "k_12"
      ],
      "execution_count": null,
      "outputs": [
        {
          "output_type": "execute_result",
          "data": {
            "text/html": [
              "<div>\n",
              "<style scoped>\n",
              "    .dataframe tbody tr th:only-of-type {\n",
              "        vertical-align: middle;\n",
              "    }\n",
              "\n",
              "    .dataframe tbody tr th {\n",
              "        vertical-align: top;\n",
              "    }\n",
              "\n",
              "    .dataframe thead th {\n",
              "        text-align: right;\n",
              "    }\n",
              "</style>\n",
              "<table border=\"1\" class=\"dataframe\">\n",
              "  <thead>\n",
              "    <tr style=\"text-align: right;\">\n",
              "      <th></th>\n",
              "      <th>GRANTEE</th>\n",
              "      <th>YEAR</th>\n",
              "      <th>ISSUE</th>\n",
              "      <th>PROGRAM</th>\n",
              "      <th>AMOUNT</th>\n",
              "    </tr>\n",
              "  </thead>\n",
              "  <tbody>\n",
              "    <tr>\n",
              "      <th>0</th>\n",
              "      <td>Data_Quality_Campaign_Inc.</td>\n",
              "      <td>2020</td>\n",
              "      <td>K-12_Education</td>\n",
              "      <td>US_Program</td>\n",
              "      <td>300000.0</td>\n",
              "    </tr>\n",
              "    <tr>\n",
              "      <th>1</th>\n",
              "      <td>Youth_Guidance</td>\n",
              "      <td>2020</td>\n",
              "      <td>K-12_Education</td>\n",
              "      <td>US_Program</td>\n",
              "      <td>600000.0</td>\n",
              "    </tr>\n",
              "    <tr>\n",
              "      <th>2</th>\n",
              "      <td>Brown_University</td>\n",
              "      <td>2020</td>\n",
              "      <td>K-12_Education</td>\n",
              "      <td>US_Program</td>\n",
              "      <td>249995.0</td>\n",
              "    </tr>\n",
              "    <tr>\n",
              "      <th>3</th>\n",
              "      <td>University_of_California_Berkeley</td>\n",
              "      <td>2020</td>\n",
              "      <td>K-12_Education</td>\n",
              "      <td>US_Program</td>\n",
              "      <td>99930.0</td>\n",
              "    </tr>\n",
              "    <tr>\n",
              "      <th>4</th>\n",
              "      <td>New_York_University</td>\n",
              "      <td>2020</td>\n",
              "      <td>K-12_Education</td>\n",
              "      <td>US_Program</td>\n",
              "      <td>10000.0</td>\n",
              "    </tr>\n",
              "    <tr>\n",
              "      <th>...</th>\n",
              "      <td>...</td>\n",
              "      <td>...</td>\n",
              "      <td>...</td>\n",
              "      <td>...</td>\n",
              "      <td>...</td>\n",
              "    </tr>\n",
              "    <tr>\n",
              "      <th>146</th>\n",
              "      <td>The Education Trust Inc</td>\n",
              "      <td>2020</td>\n",
              "      <td>K-12 Education</td>\n",
              "      <td>US Program</td>\n",
              "      <td>100000.0</td>\n",
              "    </tr>\n",
              "    <tr>\n",
              "      <th>147</th>\n",
              "      <td>National Center for Learning Disabilities</td>\n",
              "      <td>2020</td>\n",
              "      <td>K-12 Education</td>\n",
              "      <td>US Program</td>\n",
              "      <td>75000.0</td>\n",
              "    </tr>\n",
              "    <tr>\n",
              "      <th>148</th>\n",
              "      <td>New America</td>\n",
              "      <td>2020</td>\n",
              "      <td>K-12 Education</td>\n",
              "      <td>Global Policy &amp; Advocacy</td>\n",
              "      <td>3750000.0</td>\n",
              "    </tr>\n",
              "    <tr>\n",
              "      <th>149</th>\n",
              "      <td>Teaching Matters Inc.</td>\n",
              "      <td>2020</td>\n",
              "      <td>K-12 Education</td>\n",
              "      <td>US Program</td>\n",
              "      <td>180000.0</td>\n",
              "    </tr>\n",
              "    <tr>\n",
              "      <th>150</th>\n",
              "      <td>Georgetown University</td>\n",
              "      <td>2020</td>\n",
              "      <td>K-12 Education</td>\n",
              "      <td>US Program</td>\n",
              "      <td>90000.0</td>\n",
              "    </tr>\n",
              "  </tbody>\n",
              "</table>\n",
              "<p>151 rows × 5 columns</p>\n",
              "</div>"
            ],
            "text/plain": [
              "                                       GRANTEE  ...     AMOUNT\n",
              "0                   Data_Quality_Campaign_Inc.  ...   300000.0\n",
              "1                               Youth_Guidance  ...   600000.0\n",
              "2                             Brown_University  ...   249995.0\n",
              "3            University_of_California_Berkeley  ...    99930.0\n",
              "4                          New_York_University  ...    10000.0\n",
              "..                                         ...  ...        ...\n",
              "146                    The Education Trust Inc  ...   100000.0\n",
              "147  National Center for Learning Disabilities  ...    75000.0\n",
              "148                                New America  ...  3750000.0\n",
              "149                      Teaching Matters Inc.  ...   180000.0\n",
              "150                      Georgetown University  ...    90000.0\n",
              "\n",
              "[151 rows x 5 columns]"
            ]
          },
          "metadata": {
            "tags": []
          },
          "execution_count": 123
        }
      ]
    },
    {
      "cell_type": "code",
      "metadata": {
        "id": "jg0Y36a8vIKB",
        "outputId": "e12ad526-5526-4142-8eb8-b93f05322875",
        "colab": {
          "base_uri": "https://localhost:8080/",
          "height": 34
        }
      },
      "source": [
        "k_12_sum = k_12['AMOUNT'].sum()\n",
        "\n",
        "k_12_sum"
      ],
      "execution_count": null,
      "outputs": [
        {
          "output_type": "execute_result",
          "data": {
            "text/plain": [
              "139883173.0"
            ]
          },
          "metadata": {
            "tags": []
          },
          "execution_count": 126
        }
      ]
    },
    {
      "cell_type": "code",
      "metadata": {
        "id": "iQU69vmz10ui",
        "outputId": "ad5240fc-7f56-49e1-c8be-2852d98df747",
        "colab": {
          "base_uri": "https://localhost:8080/",
          "height": 34
        }
      },
      "source": [
        "Global_Health_sum = Global_Health['AMOUNT'].sum()\n",
        "Global_Health_sum"
      ],
      "execution_count": null,
      "outputs": [
        {
          "output_type": "execute_result",
          "data": {
            "text/plain": [
              "86555705.0"
            ]
          },
          "metadata": {
            "tags": []
          },
          "execution_count": 37
        }
      ]
    },
    {
      "cell_type": "code",
      "metadata": {
        "id": "mIuNmqA22vHh",
        "outputId": "0369e580-a211-44a8-a7ce-fcb8060a5ba9",
        "colab": {
          "base_uri": "https://localhost:8080/",
          "height": 378
        }
      },
      "source": [
        "plt.bar(x=0,height=k_12_sum)\n",
        "plt.bar(x=2,height=Global_Health_sum)\n",
        "plt.xticks(ticks=[0,2],labels=['K-12 Education',\n",
        "                               'Global Health and Development \\n Public Awareness and Analysis'])\n",
        "plt.yticks(ticks=[50000000,100000000,150000000,200000000],labels=['$50 million','$100 million', '$150 million','$200 million'])\n",
        "plt.text(x=0,y=250000000,s='The Amount of Grant Funding \\n by the Gates Foundation \\n in a sample from 2020',fontweight='bold',fontsize=15)\n",
        "plt.show()"
      ],
      "execution_count": null,
      "outputs": [
        {
          "output_type": "display_data",
          "data": {
            "image/png": "[encoded data removed]",
            "text/plain": [
              "<Figure size 432x288 with 1 Axes>"
            ]
          },
          "metadata": {
            "tags": [],
            "needs_background": "light"
          }
        }
      ]
    },
    {
      "cell_type": "code",
      "metadata": {
        "id": "im_L3QWuG3nD",
        "outputId": "6f9840dd-1127-4b2c-88ec-926e7e9bdcbd",
        "colab": {
          "base_uri": "https://localhost:8080/",
          "height": 34
        }
      },
      "source": [
        "k_12_mean = k_12['AMOUNT'].mean()\n",
        "\n",
        "k_12_mean"
      ],
      "execution_count": null,
      "outputs": [
        {
          "output_type": "execute_result",
          "data": {
            "text/plain": [
              "938813.2416107382"
            ]
          },
          "metadata": {
            "tags": []
          },
          "execution_count": 132
        }
      ]
    },
    {
      "cell_type": "code",
      "metadata": {
        "id": "TYPd9MrgOAmx",
        "outputId": "326f98e1-2937-4c29-af34-daca6e5d342f",
        "colab": {
          "base_uri": "https://localhost:8080/",
          "height": 34
        }
      },
      "source": [
        "Global_Health_mean = Global_Health['AMOUNT'].mean()\n",
        "\n",
        "Global_Health_mean"
      ],
      "execution_count": null,
      "outputs": [
        {
          "output_type": "execute_result",
          "data": {
            "text/plain": [
              "816563.2547169811"
            ]
          },
          "metadata": {
            "tags": []
          },
          "execution_count": 133
        }
      ]
    },
    {
      "cell_type": "code",
      "metadata": {
        "id": "oyaX7a-gOOJ5",
        "outputId": "247f5c95-23ed-4d19-c52b-06a2b0ff36ef",
        "colab": {
          "base_uri": "https://localhost:8080/",
          "height": 345
        }
      },
      "source": [
        "plt.bar(x=0,height=k_12_mean)\n",
        "plt.bar(x=2,height=Global_Health_mean)\n",
        "plt.xticks(ticks=[0,2],labels=['K-12 Education',\n",
        "                               'Global Health and Development \\n Public Awareness and Analysis'])\n",
        "plt.yticks(ticks=[1000000,2000000],labels=['$10 million', '$20 million'])\n",
        "plt.text(x=0,y=2200000,s='The Average Amount of Grant Funding \\n by the Gates Foundation \\n in a sample from 2020',fontweight='bold',fontsize=15)\n",
        "plt.show()"
      ],
      "execution_count": null,
      "outputs": [
        {
          "output_type": "display_data",
          "data": {
            "image/png": "[encoded data removed]",
            "text/plain": [
              "<Figure size 432x288 with 1 Axes>"
            ]
          },
          "metadata": {
            "tags": [],
            "needs_background": "light"
          }
        }
      ]
    }
  ]
}